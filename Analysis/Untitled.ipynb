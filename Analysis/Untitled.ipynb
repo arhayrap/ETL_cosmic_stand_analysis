{
 "cells": [
  {
   "cell_type": "code",
   "execution_count": 1,
   "id": "81ab2cb3-2a47-44eb-8367-b7081d08dd13",
   "metadata": {},
   "outputs": [],
   "source": [
    "import uproot\n",
    "import matplotlib.pyplot as plt"
   ]
  },
  {
   "cell_type": "code",
   "execution_count": null,
   "id": "06983304-fc61-4cb9-9e5f-c214962c8024",
   "metadata": {},
   "outputs": [],
   "source": [
    "scope_data = uproot.open(\"\")\n",
    "etroc_data = uproot.open(\"output_run_809018316000008408_rb0.root\")"
   ]
  }
 ],
 "metadata": {
  "kernelspec": {
   "display_name": "Python 3 (ipykernel)",
   "language": "python",
   "name": "python3"
  },
  "language_info": {
   "codemirror_mode": {
    "name": "ipython",
    "version": 3
   },
   "file_extension": ".py",
   "mimetype": "text/x-python",
   "name": "python",
   "nbconvert_exporter": "python",
   "pygments_lexer": "ipython3",
   "version": "3.10.12"
  }
 },
 "nbformat": 4,
 "nbformat_minor": 5
}
